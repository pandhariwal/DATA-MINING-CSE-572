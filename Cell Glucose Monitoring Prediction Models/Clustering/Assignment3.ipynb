{
 "cells": [
  {
   "cell_type": "code",
   "execution_count": 89,
   "metadata": {},
   "outputs": [],
   "source": [
    "import pandas\n",
    "import numpy as np\n",
    "from numpy.fft import fft\n",
    "##from __future__ import division\n",
    "from sklearn.decomposition import PCA\n",
    "import math\n",
    "from sklearn.cluster import KMeans,DBSCAN\n",
    "binLen=0\n",
    "minV=0\n",
    "maxV=0"
   ]
  },
  {
   "cell_type": "code",
   "execution_count": 90,
   "metadata": {},
   "outputs": [],
   "source": [
    "insulinDf = pandas.read_csv('InsulinData.csv',parse_dates=[['Date','Time']],low_memory=False,usecols=['Date','Time','BWZ Carb Input (grams)']).iloc[::-1]\n",
    "cgmDf = pandas.read_csv('CGMData.csv',parse_dates=[['Date','Time']],low_memory=False,usecols=['Date','Time','Sensor Glucose (mg/dL)']).iloc[::-1]"
   ]
  },
  {
   "cell_type": "code",
   "execution_count": 91,
   "metadata": {},
   "outputs": [],
   "source": [
    "def makeDf(insulinDF, cgmDf):\n",
    "    global minV,maxV,binLen\n",
    "    mealDataMatrix = []\n",
    "    insulinneutralize = insulinDf[\n",
    "        insulinDf[\"BWZ Carb Input (grams)\"].notnull()\n",
    "        & insulinDf[\"BWZ Carb Input (grams)\"]\n",
    "        != 0\n",
    "    ]\n",
    "    insulinMealDates = pandas.DataFrame(insulinneutralize[[\"Date_Time\",'BWZ Carb Input (grams)']])\n",
    "\n",
    "    insulinMealDates[\"DiffwBelow\"] = (\n",
    "        insulinMealDates.iloc[:, 0].diff(-1).dt.total_seconds()/3600\n",
    "    )\n",
    "    insulinMealDates = insulinMealDates.loc[insulinMealDates[\"DiffwBelow\"] <= -2]\n",
    "    mealDatesList = cleaning(insulinMealDates, cgmDf)\n",
    "\n",
    "    for mealDateTime in mealDatesList:\n",
    "        idx = cgmDf[cgmDf['Date_Time'] == mealDateTime[0]]['Sensor Glucose (mg/dL)'].index[0]\n",
    "        l = list(cgmDf['Sensor Glucose (mg/dL)'].iloc[cgmDf.shape[0]-1-idx-6:cgmDf.shape[0]-1-idx+24].values)\n",
    "        l.append(mealDateTime[1])\n",
    "        mealDataMatrix.append(l)\n",
    "    mealDf = pandas.DataFrame(mealDataMatrix).dropna()\n",
    "    mealDf = mealDf.reset_index(drop=True)\n",
    "    return (mealDf)\n",
    "\n",
    "def cleaning(insulinMealDates, cgmDf):\n",
    "    global binLen, minV, maxV, nBins\n",
    "    insulinMealDates.drop(insulinMealDates.head(1).index, inplace=True)\n",
    "    insulinMealDates.drop(insulinMealDates.tail(2).index, inplace=True)\n",
    "    binLen = 20\n",
    "    minV = insulinMealDates['BWZ Carb Input (grams)'].min()\n",
    "    maxV = insulinMealDates['BWZ Carb Input (grams)'].max()\n",
    "\n",
    "    nBins = (int)((maxV - minV)/20)\n",
    "\n",
    "    for ind in insulinMealDates.index:\n",
    "        insulinMealDates['BWZ Carb Input (grams)'][ind] = (int)(insulinMealDates['BWZ Carb Input (grams)'][ind]/(minV + 20))\n",
    "\n",
    "    mealDatesList = []\n",
    "    for ind in insulinMealDates.index: \n",
    "        l = [\n",
    "            (\n",
    "                cgmDf.loc[\n",
    "                    cgmDf['Date_Time'] >= insulinMealDates['Date_Time'][ind]\n",
    "                ]\n",
    "            )['Date_Time'].iloc[0],\n",
    "            insulinMealDates['BWZ Carb Input (grams)'][ind],\n",
    "        ]\n",
    "\n",
    "        mealDatesList.append(l)\n",
    "    return mealDatesList"
   ]
  },
  {
   "cell_type": "code",
   "execution_count": 92,
   "metadata": {},
   "outputs": [
    {
     "name": "stderr",
     "output_type": "stream",
     "text": [
      "D:\\Anaconda3\\envs\\py27\\lib\\site-packages\\ipykernel_launcher.py:37: SettingWithCopyWarning: \n",
      "A value is trying to be set on a copy of a slice from a DataFrame\n",
      "\n",
      "See the caveats in the documentation: http://pandas.pydata.org/pandas-docs/stable/indexing.html#indexing-view-versus-copy\n"
     ]
    }
   ],
   "source": [
    "mealDf=makeDf(insulinDf,cgmDf)\n"
   ]
  },
  {
   "cell_type": "code",
   "execution_count": 93,
   "metadata": {},
   "outputs": [],
   "source": [
    "def createmealfeaturematrix(data):\n",
    "    op_matrix = pandas.DataFrame()\n",
    "    # time between max and min glucose\n",
    "    op_matrix[\"Time_bet_max_min\"] = (\n",
    "        data.iloc[:, 22:25].idxmin(axis=1) - data.iloc[:, 5:19].idxmax(axis=1)\n",
    "    ) * 5\n",
    "    \n",
    "    # normalize glucose difference\n",
    "    op_matrix[\"Glucose_Difference_normalized\"] = (\n",
    "        data.iloc[:, 5:19].max(axis=1) - data.iloc[:, 22:25].min(axis=1)\n",
    "    ) / (data.iloc[:, 22:25].min(axis=1))\n",
    "\n",
    "    # windowed mean\n",
    "    if data.shape[1] > 24:\n",
    "        for i in range(6, data.shape[1], 6):\n",
    "            op_matrix[\"Mean_\" + str(i - 6)] = data.iloc[\n",
    "                :, i : i + 6\n",
    "            ].mean(axis=1)\n",
    "    else:\n",
    "        for i in range(0, data.shape[1], 6):\n",
    "            op_matrix[\"Mean_\" + str(i)] = data.iloc[:, i : i + 6].mean(\n",
    "                axis=1\n",
    "            )\n",
    "            \n",
    "    # cgm velocity\n",
    "    velocityDF = pandas.DataFrame()\n",
    "    for i in range(0, data.shape[1] - 5):\n",
    "        velocityDF[\"Vel_\" + str(i)] = data.iloc[:, i + 5] - data.iloc[:, i]\n",
    "    op_matrix[\"Window_Velocity_Max\"] = velocityDF.max(axis=1, skipna=True)\n",
    "    \n",
    "    #1st and 2nd differential\n",
    "    tm=data.iloc[:,22:25].idxmin(axis=1)\n",
    "    maximum=data.iloc[:,5:19].idxmax(axis=1)\n",
    "    list1=[]\n",
    "    second_differential_data=[]\n",
    "    standard_deviation=[]\n",
    "    for i in range(len(data)):\n",
    "        list1.append(np.diff(data.iloc[:,maximum[i]:tm[i]].iloc[i].tolist()).max())\n",
    "        second_differential_data.append(np.diff(np.diff(data.iloc[:,maximum[i]:tm[i]].iloc[i].tolist())).max())\n",
    "        standard_deviation.append(np.std(data.iloc[i]))\n",
    "    op_matrix['1stDifferential']=list1\n",
    "    op_matrix['2ndDifferential']=second_differential_data\n",
    "\n",
    "    # fft_4\n",
    "    def get_fft(row):\n",
    "        cgmFFTValues = np.abs(fft(row))\n",
    "        cgmFFTValues.sort()\n",
    "        return np.flip(cgmFFTValues)[0:4]\n",
    "    \n",
    "    FFT = pandas.DataFrame()\n",
    "    FFT[\"FFT_Top2\"] = data.apply(lambda row: get_fft(row), axis=1)\n",
    "    FFT_updated = pandas.DataFrame(\n",
    "        FFT.FFT_Top2.tolist(), columns=[\"FFT_2\", \"FFT_3\", \"FFT_4\",\"FFT_5\"]\n",
    "    )\n",
    "    FFT_updated.head()\n",
    "    for i in range(1,5):\n",
    "        op_matrix[\"FFT_\" + str(i + 1)] = FFT_updated[\"FFT_\" + str(i + 1)]\n",
    "\n",
    "    return op_matrix"
   ]
  },
  {
   "cell_type": "code",
   "execution_count": 94,
   "metadata": {},
   "outputs": [],
   "source": [
    "Meal_features=createmealfeaturematrix(mealDf)\n"
   ]
  },
  {
   "cell_type": "code",
   "execution_count": 95,
   "metadata": {},
   "outputs": [],
   "source": [
    "pca = PCA(n_components=10)\n",
    "principalComponents = pca.fit(Meal_features)\n",
    "PCA_mealdata = pca.fit_transform(Meal_features)\n"
   ]
  },
  {
   "cell_type": "code",
   "execution_count": 96,
   "metadata": {},
   "outputs": [],
   "source": [
    "kmeans=KMeans(n_clusters=nBins, random_state=0).fit(PCA_mealdata)\n",
    "SSE_KMeans=kmeans.inertia_\n",
    "\n",
    "clusterBinMatrix = [[0 for i in range(nBins)] for i in range(nBins)]\n",
    "for i in range(kmeans.labels_.shape[0]):\n",
    "    clusterBinMatrix[kmeans.labels_[i]][int(mealDf.iloc[i][30])] += 1\n",
    "Kmeans_Entropy =[0,0,0,0,0,0]\n",
    "Kmeans_Purity = 0\n",
    "totalPoints = sum(sum(clusterBinMatrix,[]))\n",
    "for i in range(len(clusterBinMatrix)):\n",
    "    Kmeans_Purity += float(max(clusterBinMatrix[i]))/totalPoints\n",
    "    for j in range(len(clusterBinMatrix[i])):\n",
    "        P = float(clusterBinMatrix[i][j])/sum(clusterBinMatrix[i])\n",
    "        if(P != 0):\n",
    "            Kmeans_Entropy[i] += (-P) * math.log(P,2) * (sum(clusterBinMatrix[i])/totalPoints)    \n",
    "Kmeans_Entropy = sum(Kmeans_Entropy)"
   ]
  },
  {
   "cell_type": "code",
   "execution_count": 97,
   "metadata": {},
   "outputs": [],
   "source": [
    "dbscan = DBSCAN(eps = 210, min_samples = 6).fit(PCA_mealdata) \n",
    "\n",
    "for i in range(dbscan.labels_.size):\n",
    "    if dbscan.labels_[i] == -1:\n",
    "        min = float('inf')\n",
    "        l = -1\n",
    "        for j in range(dbscan.labels_.size):\n",
    "            if dbscan.labels_[j] != -1:\n",
    "                eucDist = np.linalg.norm(PCA_mealdata[i] - PCA_mealdata[j])\n",
    "                if eucDist < min:\n",
    "                    min = eucDist\n",
    "                    l = dbscan.labels_[j]\n",
    "        dbscan.labels_[i] = l            \n",
    "        \n",
    "dbscan.labels_ = np.array(dbscan.labels_)\n",
    "\n",
    "dbScanSSE = 0\n",
    "for i in range(nBins):\n",
    "    cluster = PCA_mealdata[dbscan.labels_ == i]\n",
    "    clusterMean = cluster.mean(axis = 0)\n",
    "    dbScanSSE += ((cluster - clusterMean) ** 2).sum()\n",
    "    \n",
    "\n"
   ]
  },
  {
   "cell_type": "code",
   "execution_count": 108,
   "metadata": {},
   "outputs": [],
   "source": [
    "    clusterBinMatrix = [[0 for i in range(nBins)] for i in range(nBins)]\n",
    "    for i in range(dbscan.labels_.shape[0]):\n",
    "        clusterBinMatrix[dbscan.labels_[i]][int(mealDf.iloc[i][30])] += 1\n",
    "    DbScanEntropy = [0 for i in range(6)]\n",
    "    DbScanPurity = 0\n",
    "    totalPoints = sum(sum(clusterBinMatrix,[]))\n",
    "    \n",
    "    for i in range(len(clusterBinMatrix)):\n",
    "        \n",
    "        DbScanPurity += float(max(clusterBinMatrix[i]))/totalPoints\n",
    "        \n",
    "        for j in range(len(clusterBinMatrix[i])):\n",
    "            P = float(clusterBinMatrix[i][j])/sum(clusterBinMatrix[i])\n",
    "            if(P != 0):\n",
    "                DbScanEntropy[i] += (-P) * math.log(P,2) * (sum(clusterBinMatrix[i])/totalPoints)    \n",
    "    DbScanEntropy = sum(DbScanEntropy)"
   ]
  },
  {
   "cell_type": "code",
   "execution_count": 113,
   "metadata": {},
   "outputs": [
    {
     "name": "stdout",
     "output_type": "stream",
     "text": [
      "<type 'numpy.float64'>\n",
      "<type 'numpy.float64'>\n",
      "<type 'float'>\n",
      "<type 'float'>\n",
      "<type 'float'>\n",
      "<type 'float'>\n"
     ]
    }
   ],
   "source": [
    "result = [\n",
    "    [SSE_KMeans,\n",
    "    dbScanSSE,\n",
    "    Kmeans_Entropy,\n",
    "    DbScanEntropy,\n",
    "    Kmeans_Purity,\n",
    "    DbScanPurity]\n",
    "]\n"
   ]
  },
  {
   "cell_type": "code",
   "execution_count": 100,
   "metadata": {},
   "outputs": [],
   "source": [
    "resultDf = pandas.DataFrame(result)\n",
    "resultDf.to_csv('Results.csv',index=False, header=False)"
   ]
  }
 ],
 "metadata": {
  "interpreter": {
   "hash": "a8f61be024eba58adef938c9aa1e29e02cb3dece83a5348b1a2dafd16a070453"
  },
  "kernelspec": {
   "display_name": "Python 3.8.8 64-bit ('base': conda)",
   "language": "python",
   "name": "python3"
  },
  "language_info": {
   "codemirror_mode": {
    "name": "ipython",
    "version": 3
   },
   "file_extension": ".py",
   "mimetype": "text/x-python",
   "name": "python",
   "nbconvert_exporter": "python",
   "pygments_lexer": "ipython3",
   "version": "3.8.8"
  },
  "orig_nbformat": 4
 },
 "nbformat": 4,
 "nbformat_minor": 2
}
